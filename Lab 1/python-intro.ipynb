{
 "cells": [
  {
   "cell_type": "markdown",
   "metadata": {},
   "source": [
    "# Running Python\n",
    "\n",
    "1. Execute a valid Python file\n",
    "\n",
    "    ```bash\n",
    "    $ python foo.py\n",
    "    ```\n",
    "\n",
    "1. Python Interpreter\n",
    "\n",
    "    ```bash\n",
    "    $ python\n",
    "    ```\n",
    "\n",
    "1. iPython (Interactive Python)\n",
    "\n",
    "    ```bash\n",
    "    $ ipython\n",
    "    ```\n",
    "\n",
    "1. Jupyter / iPython notebook (also recommended)\n",
    "\n",
    "    ```\n",
    "    $ jupyter notebook\n",
    "    ```\n",
    "    \n",
    "    This is similar to iPython but browser based. It has some very cool features (i.e you can run specific segments of code). For development, some people may have a preference for the simpler command-line iPython. \n",
    "\n",
    "\n",
    "1. IDEs: PyCharm or Visual Studio Code\n",
    "\n",
    "    You are on your own to figure this out. I hear they're nice once they're setup, but it's some up-front cost to configure it to work nicely with anaconda, matplotlib, etc. \n",
    "    \n",
    "\n",
    "1. Text Editors: Sublime Text\n",
    "\n",
    "    Free (in the same way WinRAR is free) text editor with nice default features and a lot of plugin options. Easier to configure to work with your Python3 installation, and can execute a .py file with a hotkey. If you don't have a worthwhile default text editor, I highly recommend it.\n",
    "\n"
   ]
  },
  {
   "cell_type": "markdown",
   "metadata": {},
   "source": [
    "# Jupyter Notebook Cheat Sheet"
   ]
  },
  {
   "cell_type": "markdown",
   "metadata": {},
   "source": [
    "### Running a cell\n",
    "A cell is a block of code. Click the cell below and press the \"play\" button above or type Shift+Enter. The code will run, print output, and then advance to the next cell. Type Ctrl+Enter to run but not advance.\n",
    "\n",
    "Hint: If you're getting an error that says a variable is undefined, make sure you've ran the cell that defines the variable before executing ones that will use it."
   ]
  },
  {
   "cell_type": "code",
   "execution_count": 3,
   "metadata": {
    "scrolled": true
   },
   "outputs": [
    {
     "name": "stdout",
     "output_type": "stream",
     "text": [
      "20\n"
     ]
    }
   ],
   "source": [
    "x = 10\n",
    "x = 2*x\n",
    "print(x)"
   ]
  },
  {
   "cell_type": "markdown",
   "metadata": {},
   "source": [
    "### Running code in another file\n",
    "Create a file in the same directory called ``hello.py`` with this line\n",
    "\n",
    "```python\n",
    "print ('hello world')\n",
    "```\n",
    "\n",
    "Now you can run it from jupyter:"
   ]
  },
  {
   "cell_type": "code",
   "execution_count": 2,
   "metadata": {},
   "outputs": [
    {
     "name": "stdout",
     "output_type": "stream",
     "text": [
      "hello world\n"
     ]
    }
   ],
   "source": [
    "%run hello.py"
   ]
  },
  {
   "cell_type": "markdown",
   "metadata": {},
   "source": [
    "Basic Data Types\n",
    "=============="
   ]
  },
  {
   "cell_type": "markdown",
   "metadata": {},
   "source": [
    "Numerical and Logical Types\n",
    "---"
   ]
  },
  {
   "cell_type": "code",
   "execution_count": 3,
   "metadata": {},
   "outputs": [
    {
     "name": "stdout",
     "output_type": "stream",
     "text": [
      "1 <class 'int'>\n",
      "True <class 'bool'>\n",
      "1.0 <class 'float'>\n",
      "10000000000.0 <class 'float'>\n"
     ]
    }
   ],
   "source": [
    "x = 1 #\n",
    "print(x, type(x))\n",
    "x = True\n",
    "print(x, type(x))\n",
    "x = 1.0\n",
    "print(x, type(x))\n",
    "x = 1e10\n",
    "print(x, type(x))"
   ]
  },
  {
   "cell_type": "markdown",
   "metadata": {},
   "source": [
    "Strings\n",
    "--"
   ]
  },
  {
   "cell_type": "code",
   "execution_count": 5,
   "metadata": {},
   "outputs": [
    {
     "name": "stdout",
     "output_type": "stream",
     "text": [
      "This is a string\n"
     ]
    }
   ],
   "source": [
    "X=\"This is a string\" #Set X to a string object defined using double quotes\n",
    "print(X)"
   ]
  },
  {
   "cell_type": "code",
   "execution_count": 6,
   "metadata": {},
   "outputs": [
    {
     "name": "stdout",
     "output_type": "stream",
     "text": [
      "So is this!\n"
     ]
    }
   ],
   "source": [
    "Y='So is this!' #Set Y to a string object defined using single quotes\n",
    "print(Y)"
   ]
  },
  {
   "cell_type": "code",
   "execution_count": 7,
   "metadata": {},
   "outputs": [
    {
     "name": "stdout",
     "output_type": "stream",
     "text": [
      "If you use double quotes, it's okay to use single quotes inside, and vice versa. Otherwise, use an escape character \\. Also, there's no difference to strings defined with either one.\n"
     ]
    }
   ],
   "source": [
    "Z = \"If you use double quotes, it's okay to use single quotes inside, and vice versa. Otherwise, use an escape character \\\\. \" + 'Also, there\\'s no difference to strings defined with either one.'\n",
    "print(Z)"
   ]
  },
  {
   "cell_type": "code",
   "execution_count": 8,
   "metadata": {},
   "outputs": [
    {
     "name": "stdout",
     "output_type": "stream",
     "text": [
      "T\n"
     ]
    }
   ],
   "source": [
    "print(X[0])"
   ]
  },
  {
   "cell_type": "code",
   "execution_count": 9,
   "metadata": {},
   "outputs": [
    {
     "name": "stdout",
     "output_type": "stream",
     "text": [
      "his is a string\n"
     ]
    }
   ],
   "source": [
    "print(X[1:] )"
   ]
  },
  {
   "cell_type": "code",
   "execution_count": 10,
   "metadata": {},
   "outputs": [
    {
     "name": "stdout",
     "output_type": "stream",
     "text": [
      "['This', 'is', 'a', 'string']\n",
      "['Th', 's ', 's a str', 'ng']\n"
     ]
    }
   ],
   "source": [
    "print(X.split())\n",
    "print(X.split('i'))"
   ]
  },
  {
   "cell_type": "code",
   "execution_count": 25,
   "metadata": {},
   "outputs": [
    {
     "name": "stdout",
     "output_type": "stream",
     "text": [
      "This is a stringSo is this!\n",
      "This is a string. So is this!\n"
     ]
    }
   ],
   "source": [
    "print(X + Y)\n",
    "print(X + '.' + \" \" + Y)"
   ]
  },
  {
   "cell_type": "code",
   "execution_count": 23,
   "metadata": {},
   "outputs": [
    {
     "ename": "TypeError",
     "evalue": "'str' object does not support item assignment",
     "output_type": "error",
     "traceback": [
      "\u001b[0;31m---------------------------------------------------------------------------\u001b[0m",
      "\u001b[0;31mTypeError\u001b[0m                                 Traceback (most recent call last)",
      "\u001b[0;32m<ipython-input-23-75639f508228>\u001b[0m in \u001b[0;36m<module>\u001b[0;34m\u001b[0m\n\u001b[1;32m      1\u001b[0m \u001b[0mXYZ\u001b[0m \u001b[0;34m=\u001b[0m \u001b[0;34m\"Notice strings are immutable in Python. So make them lists first, then edit, then back into strings.\"\u001b[0m\u001b[0;34m\u001b[0m\u001b[0;34m\u001b[0m\u001b[0m\n\u001b[0;32m----> 2\u001b[0;31m \u001b[0mXYZ\u001b[0m\u001b[0;34m[\u001b[0m\u001b[0;36m0\u001b[0m\u001b[0;34m]\u001b[0m \u001b[0;34m=\u001b[0m \u001b[0;34m\"n\"\u001b[0m\u001b[0;34m\u001b[0m\u001b[0;34m\u001b[0m\u001b[0m\n\u001b[0m",
      "\u001b[0;31mTypeError\u001b[0m: 'str' object does not support item assignment"
     ]
    }
   ],
   "source": [
    "XYZ = \"Notice strings are immutable in Python. So make them lists first, then edit, then back into strings.\"\n",
    "XYZ[0] = \"n\""
   ]
  },
  {
   "cell_type": "markdown",
   "metadata": {},
   "source": [
    "Containers\n",
    "========"
   ]
  },
  {
   "cell_type": "markdown",
   "metadata": {},
   "source": [
    "Tuples\n",
    "--"
   ]
  },
  {
   "cell_type": "code",
   "execution_count": 45,
   "metadata": {},
   "outputs": [
    {
     "name": "stdout",
     "output_type": "stream",
     "text": [
      "<class 'tuple'>\n"
     ]
    }
   ],
   "source": [
    "X = (1,\"2\",\"Fang\",4.1,5)            #Define tuple\n",
    "print(type(X))"
   ]
  },
  {
   "cell_type": "code",
   "execution_count": 31,
   "metadata": {},
   "outputs": [
    {
     "name": "stdout",
     "output_type": "stream",
     "text": [
      "X= (1, '2', 'Fang', 4.1, 5)\n"
     ]
    }
   ],
   "source": [
    "print(\"X=\", X)           #Print the tuple "
   ]
  },
  {
   "cell_type": "code",
   "execution_count": 33,
   "metadata": {},
   "outputs": [
    {
     "name": "stdout",
     "output_type": "stream",
     "text": [
      "X[2]= Fang\n"
     ]
    }
   ],
   "source": [
    "print(\"X[2]=\", X[2])     #Print the first element of the tuple"
   ]
  },
  {
   "cell_type": "code",
   "execution_count": 36,
   "metadata": {},
   "outputs": [
    {
     "name": "stdout",
     "output_type": "stream",
     "text": [
      "5\n",
      "5\n"
     ]
    }
   ],
   "source": [
    "print( X[4] )    #Print the last element of the tuple\n",
    "print( X[-1] )   #Print the last element of the tuple"
   ]
  },
  {
   "cell_type": "code",
   "execution_count": 37,
   "metadata": {},
   "outputs": [
    {
     "name": "stdout",
     "output_type": "stream",
     "text": [
      "5\n"
     ]
    }
   ],
   "source": [
    "print(len(X)) #Pring length of tuple"
   ]
  },
  {
   "cell_type": "code",
   "execution_count": 46,
   "metadata": {},
   "outputs": [
    {
     "ename": "TypeError",
     "evalue": "'tuple' object does not support item assignment",
     "output_type": "error",
     "traceback": [
      "\u001b[1;31m---------------------------------------------------------------------------\u001b[0m",
      "\u001b[1;31mTypeError\u001b[0m                                 Traceback (most recent call last)",
      "\u001b[1;32m<ipython-input-46-21595cb19964>\u001b[0m in \u001b[0;36m<module>\u001b[1;34m\u001b[0m\n\u001b[1;32m----> 1\u001b[1;33m \u001b[0mX\u001b[0m\u001b[1;33m[\u001b[0m\u001b[1;36m0\u001b[0m\u001b[1;33m]\u001b[0m\u001b[1;33m=\u001b[0m\u001b[1;36m5\u001b[0m                  \u001b[1;31m#Set element of tuple ! ERROR (tuples are immutable)\u001b[0m\u001b[1;33m\u001b[0m\u001b[1;33m\u001b[0m\u001b[0m\n\u001b[0m",
      "\u001b[1;31mTypeError\u001b[0m: 'tuple' object does not support item assignment"
     ]
    }
   ],
   "source": [
    "X[0]=5                  #Set element of tuple ! ERROR (tuples are immutable)"
   ]
  },
  {
   "cell_type": "markdown",
   "metadata": {},
   "source": [
    "Lists\n",
    "--"
   ]
  },
  {
   "cell_type": "markdown",
   "metadata": {},
   "source": [
    "Python lists are more like C-style linked lists than they are arrays. They are indexable, sliceable, comparable, addable, multiplyable (?), and more. "
   ]
  },
  {
   "cell_type": "code",
   "execution_count": 11,
   "metadata": {},
   "outputs": [
    {
     "name": "stdout",
     "output_type": "stream",
     "text": [
      "<class 'list'>\n"
     ]
    }
   ],
   "source": [
    "X = [1,2,\"Fang\",4,5]         #Define list\n",
    "print(type(X))           #Show type of X"
   ]
  },
  {
   "cell_type": "code",
   "execution_count": 12,
   "metadata": {},
   "outputs": [
    {
     "name": "stdout",
     "output_type": "stream",
     "text": [
      "[1, 2, 'Fang', 4, 5]\n"
     ]
    }
   ],
   "source": [
    "print(X)       #Print the list"
   ]
  },
  {
   "cell_type": "code",
   "execution_count": 13,
   "metadata": {},
   "outputs": [
    {
     "name": "stdout",
     "output_type": "stream",
     "text": [
      "Fang\n"
     ]
    }
   ],
   "source": [
    "print(X[2])     #Print the first element of the list"
   ]
  },
  {
   "cell_type": "code",
   "execution_count": 14,
   "metadata": {},
   "outputs": [
    {
     "name": "stdout",
     "output_type": "stream",
     "text": [
      "5\n",
      "5\n"
     ]
    }
   ],
   "source": [
    "print(X[4])\n",
    "print(X[-1])    #Print the last element of the list"
   ]
  },
  {
   "cell_type": "code",
   "execution_count": 15,
   "metadata": {},
   "outputs": [
    {
     "name": "stdout",
     "output_type": "stream",
     "text": [
      "5\n"
     ]
    }
   ],
   "source": [
    "print(len(X))"
   ]
  },
  {
   "cell_type": "code",
   "execution_count": 16,
   "metadata": {},
   "outputs": [
    {
     "name": "stdout",
     "output_type": "stream",
     "text": [
      "[5, 2, 'Fang', 4, 5]\n"
     ]
    }
   ],
   "source": [
    "X[0] = 5                  #Change the list. \n",
    "print(X)"
   ]
  },
  {
   "cell_type": "code",
   "execution_count": 17,
   "metadata": {},
   "outputs": [
    {
     "name": "stdout",
     "output_type": "stream",
     "text": [
      "[5, 2, 'Fang', 4, 5, 6]\n"
     ]
    }
   ],
   "source": [
    "X.append(6)          # Append *one* item to list. Takes object as an argument.\n",
    "print(X)"
   ]
  },
  {
   "cell_type": "code",
   "execution_count": 18,
   "metadata": {},
   "outputs": [
    {
     "name": "stdout",
     "output_type": "stream",
     "text": [
      "[1, 2, 3, 4, 5, 6, 7, 8]\n"
     ]
    }
   ],
   "source": [
    "X = [1, 2, 3, 4, 5, 6]\n",
    "X.extend([7, 8]) # add elements 7, 8 to end of X. Takes list of objects as an argument.\n",
    "print(X)"
   ]
  },
  {
   "cell_type": "code",
   "execution_count": 19,
   "metadata": {},
   "outputs": [
    {
     "name": "stdout",
     "output_type": "stream",
     "text": [
      "[1, 2, 3, 4, 5, 6, 7, 8]\n",
      "[1, 2, 3, 4, 5, 6, 7, 8, 7, 8]\n"
     ]
    }
   ],
   "source": [
    "Y = X + [7,8]   # concatenate and retern a *new* list\n",
    "print(X)\n",
    "print(Y)"
   ]
  },
  {
   "cell_type": "code",
   "execution_count": 20,
   "metadata": {},
   "outputs": [
    {
     "name": "stdout",
     "output_type": "stream",
     "text": [
      "[1, 2, 3, 4, 5, 1, 2, 3, 4, 5]\n"
     ]
    }
   ],
   "source": [
    "X = [1, 2, 3, 4, 5]\n",
    "Y=X*2           # concatenate two copies of X (think: X+X)\n",
    "print(Y)"
   ]
  },
  {
   "cell_type": "code",
   "execution_count": 21,
   "metadata": {},
   "outputs": [
    {
     "name": "stdout",
     "output_type": "stream",
     "text": [
      "[1, 2, 3, 4]\n"
     ]
    }
   ],
   "source": [
    "print(Y[0:4]) # slice a list with start, stop"
   ]
  },
  {
   "cell_type": "code",
   "execution_count": 60,
   "metadata": {},
   "outputs": [
    {
     "name": "stdout",
     "output_type": "stream",
     "text": [
      "[1, 3, 5, 2, 4]\n"
     ]
    }
   ],
   "source": [
    "print(Y[0:12:2]) #slice a list, adding an increment"
   ]
  },
  {
   "cell_type": "code",
   "execution_count": 55,
   "metadata": {
    "scrolled": true
   },
   "outputs": [
    {
     "name": "stdout",
     "output_type": "stream",
     "text": [
      "[1, 2]\n"
     ]
    }
   ],
   "source": [
    "print(X[:-1]) #slice a list, remove the last element"
   ]
  },
  {
   "cell_type": "code",
   "execution_count": 22,
   "metadata": {},
   "outputs": [
    {
     "name": "stdout",
     "output_type": "stream",
     "text": [
      "(1, 'a')\n",
      "(2, 'b')\n",
      "(3, 'c')\n"
     ]
    }
   ],
   "source": [
    "X = [1,2,3]\n",
    "Y = ['a','b','c']\n",
    "Z = zip(X,Y) # Make one list out of two using tuples\n",
    "\n",
    "for item in Z: # Ignore the for loop for now\n",
    "    print(item)"
   ]
  },
  {
   "cell_type": "markdown",
   "metadata": {},
   "source": [
    "### Create a plot using matplotlib"
   ]
  },
  {
   "cell_type": "code",
   "execution_count": 23,
   "metadata": {
    "scrolled": true
   },
   "outputs": [
    {
     "data": {
      "image/png": "[encoded data removed]",
      "text/plain": [
       "<Figure size 432x288 with 1 Axes>"
      ]
     },
     "metadata": {
      "needs_background": "light"
     },
     "output_type": "display_data"
    }
   ],
   "source": [
    "%matplotlib inline\n",
    "import matplotlib.pyplot as plt\n",
    "x = [1, 2, 3, 4]\n",
    "y = [2, 30, 4, 20]\n",
    "plt.plot(x, y)\n",
    "plt.show()"
   ]
  },
  {
   "cell_type": "markdown",
   "metadata": {},
   "source": [
    "Dictionaries\n",
    "--"
   ]
  },
  {
   "cell_type": "markdown",
   "metadata": {},
   "source": [
    "A dictionary, also known as a hash table, provides constant time lookup through the use of keys. Both keys and values can be of any type, as long as they provide a __hash__ method. \n",
    "\n",
    "For instance, you wouldn't use a list as a key, because it is mutable (could change). If it changes, then you will have lost the key to the previously stored values. However, strings and tuples are immutable and thus don't suffer from this problem."
   ]
  },
  {
   "cell_type": "code",
   "execution_count": 48,
   "metadata": {},
   "outputs": [
    {
     "name": "stdout",
     "output_type": "stream",
     "text": [
      "type(X) <class 'dict'>\n"
     ]
    }
   ],
   "source": [
    "X = {\"Bob\": 192731, \"Mary\": 281927, \"Joe\": 103124} #Define a dictionary of key-value pairs\n",
    "print(\"type(X)\",type(X))"
   ]
  },
  {
   "cell_type": "code",
   "execution_count": 40,
   "metadata": {},
   "outputs": [
    {
     "name": "stdout",
     "output_type": "stream",
     "text": [
      "X= {'Bob': 192731, 'Mary': 281927, 'Joe': 103124}\n"
     ]
    }
   ],
   "source": [
    "print(\"X=\", X)                    #Print the dictionary"
   ]
  },
  {
   "cell_type": "code",
   "execution_count": 41,
   "metadata": {},
   "outputs": [
    {
     "name": "stdout",
     "output_type": "stream",
     "text": [
      "X[\"Joe\"]= 103124\n"
     ]
    }
   ],
   "source": [
    "print('X[\"Joe\"]=', X[\"Joe\"])      #Print the value for Joe"
   ]
  },
  {
   "cell_type": "code",
   "execution_count": 42,
   "metadata": {},
   "outputs": [
    {
     "name": "stdout",
     "output_type": "stream",
     "text": [
      "len(X) 3\n"
     ]
    }
   ],
   "source": [
    "print('len(X)', len(X))           #Print the number of items"
   ]
  },
  {
   "cell_type": "code",
   "execution_count": 43,
   "metadata": {
    "scrolled": true
   },
   "outputs": [
    {
     "name": "stdout",
     "output_type": "stream",
     "text": [
      "X.keys()= dict_keys(['Bob', 'Mary', 'Joe'])\n"
     ]
    }
   ],
   "source": [
    "print('X.keys()=',X.keys())       #Print the list of keys"
   ]
  },
  {
   "cell_type": "code",
   "execution_count": 44,
   "metadata": {},
   "outputs": [
    {
     "name": "stdout",
     "output_type": "stream",
     "text": [
      "1: X 5\n",
      "2: X= 5.0\n",
      "3: X= True\n",
      "4: X= 500000000000000000000000000000000000000000000000000000000000000\n"
     ]
    }
   ],
   "source": [
    "X=5 #Set X to integer object equal to 5\n",
    "print(\"1: X\",X)\n",
    "\n",
    "X=5.0 #Set X to float object equal to 5.0\n",
    "print(\"2: X=\",X)\n",
    "\n",
    "X=True #Set X to boolean True\n",
    "print(\"3: X=\",X)\n",
    "\n",
    "X=500000000000000000000000000000000000000000000000000000000000000 # Python 3 integers have arbitrary precision\n",
    "print(\"4: X=\",X)"
   ]
  },
  {
   "cell_type": "code",
   "execution_count": 49,
   "metadata": {},
   "outputs": [
    {
     "name": "stdout",
     "output_type": "stream",
     "text": [
      "X.values()= dict_values([192731, 281927, 103124])\n"
     ]
    }
   ],
   "source": [
    "print('X.values()=',X.values())   #Print the list of values\n"
   ]
  },
  {
   "cell_type": "code",
   "execution_count": 50,
   "metadata": {},
   "outputs": [
    {
     "name": "stdout",
     "output_type": "stream",
     "text": [
      "X= {'Bob': 192731, 'Mary': 281927, 'Joe': 772345}\n"
     ]
    }
   ],
   "source": [
    "X[\"Joe\"]=772345                   #Change an element\n",
    "print(\"X=\", X)"
   ]
  },
  {
   "cell_type": "code",
   "execution_count": 51,
   "metadata": {},
   "outputs": [
    {
     "name": "stdout",
     "output_type": "stream",
     "text": [
      "X= {'Bob': 192731, 'Mary': 281927, 'Joe': 772345, 'Alice': 111111}\n"
     ]
    }
   ],
   "source": [
    "X[\"Alice\"]=111111                 #Add a new element\n",
    "print(\"X=\", X) "
   ]
  },
  {
   "cell_type": "code",
   "execution_count": 52,
   "metadata": {},
   "outputs": [
    {
     "ename": "KeyError",
     "evalue": "'Pedro'",
     "output_type": "error",
     "traceback": [
      "\u001b[0;31m---------------------------------------------------------------------------\u001b[0m",
      "\u001b[0;31mKeyError\u001b[0m                                  Traceback (most recent call last)",
      "\u001b[0;32m<ipython-input-52-100865001cf0>\u001b[0m in \u001b[0;36m<module>\u001b[0;34m\u001b[0m\n\u001b[0;32m----> 1\u001b[0;31m \u001b[0mprint\u001b[0m\u001b[0;34m(\u001b[0m\u001b[0mX\u001b[0m\u001b[0;34m[\u001b[0m\u001b[0;34m\"Pedro\"\u001b[0m\u001b[0;34m]\u001b[0m\u001b[0;34m)\u001b[0m \u001b[0;31m#Notice that if an key is not yet in the dictionary, a KeyError exception is raised\u001b[0m\u001b[0;34m\u001b[0m\u001b[0;34m\u001b[0m\u001b[0m\n\u001b[0m",
      "\u001b[0;31mKeyError\u001b[0m: 'Pedro'"
     ]
    }
   ],
   "source": [
    "print(X[\"Pedro\"]) #Notice that if an key is not yet in the dictionary, a KeyError exception is raised"
   ]
  },
  {
   "cell_type": "code",
   "execution_count": 53,
   "metadata": {
    "scrolled": true
   },
   "outputs": [
    {
     "name": "stdout",
     "output_type": "stream",
     "text": [
      "2048\n"
     ]
    }
   ],
   "source": [
    "X[\"Pedro\"] = X.get(\"Pedro\", 0) + 2048 #Fix it by using dict.get(key, default_value)\n",
    "print(X[\"Pedro\"])\n",
    "\n",
    "# Look into collections.defaultdict if you run into the above assignment situation a lot"
   ]
  },
  {
   "cell_type": "code",
   "execution_count": 54,
   "metadata": {},
   "outputs": [
    {
     "name": "stdout",
     "output_type": "stream",
     "text": [
      "dict_items([(1, 'a'), (2, 'b'), (3, 'c')])\n"
     ]
    }
   ],
   "source": [
    "X = [1,2,3]\n",
    "Y = ['a','b','c']\n",
    "Z = dict(zip(X,Y)) # Zip two lists and use them as the key, value pairs for a dictionary\n",
    "\n",
    "print(Z.items())"
   ]
  },
  {
   "cell_type": "markdown",
   "metadata": {},
   "source": [
    "# Sets\n",
    "\n",
    "Python sets are like a C++ style bag. They only care about storing unique elements and have fast lookup times."
   ]
  },
  {
   "cell_type": "code",
   "execution_count": 55,
   "metadata": {},
   "outputs": [
    {
     "name": "stdout",
     "output_type": "stream",
     "text": [
      "{2, 'Pedro'}\n",
      "{'Pedro'}\n"
     ]
    }
   ],
   "source": [
    "s = set()\n",
    "\n",
    "s.add(2)\n",
    "s.add(\"Pedro\")\n",
    "\n",
    "print(s)\n",
    "\n",
    "s.remove(2)\n",
    "\n",
    "print(s)"
   ]
  },
  {
   "cell_type": "markdown",
   "metadata": {},
   "source": [
    "Containers with Nesting and Mixed Elements\n",
    "--"
   ]
  },
  {
   "cell_type": "code",
   "execution_count": 56,
   "metadata": {},
   "outputs": [
    {
     "name": "stdout",
     "output_type": "stream",
     "text": [
      "X= [1, 'Foo', False, [1, 2, 3], (1, True)]\n"
     ]
    }
   ],
   "source": [
    "X = [1,\"Foo\",False,[1,2,3],(1,True)] #Lists can contain mixed types!\n",
    "print(\"X=\", X)                        #Print the list"
   ]
  },
  {
   "cell_type": "code",
   "execution_count": 57,
   "metadata": {},
   "outputs": [
    {
     "name": "stdout",
     "output_type": "stream",
     "text": [
      "True\n"
     ]
    }
   ],
   "source": [
    "#How can we get the second item in the tuple at the end of the list?\n",
    "print(X[-1][1])"
   ]
  },
  {
   "cell_type": "code",
   "execution_count": 58,
   "metadata": {},
   "outputs": [
    {
     "ename": "TypeError",
     "evalue": "'int' object is not subscriptable",
     "output_type": "error",
     "traceback": [
      "\u001b[0;31m---------------------------------------------------------------------------\u001b[0m",
      "\u001b[0;31mTypeError\u001b[0m                                 Traceback (most recent call last)",
      "\u001b[0;32m<ipython-input-58-ed0d1ef77d38>\u001b[0m in \u001b[0;36m<module>\u001b[0;34m\u001b[0m\n\u001b[1;32m      1\u001b[0m \u001b[0;31m#But notice that this comes with problems if you access an unsubscriptable object (e.g int, float)\u001b[0m\u001b[0;34m\u001b[0m\u001b[0;34m\u001b[0m\u001b[0;34m\u001b[0m\u001b[0m\n\u001b[0;32m----> 2\u001b[0;31m \u001b[0mprint\u001b[0m\u001b[0;34m(\u001b[0m\u001b[0mX\u001b[0m\u001b[0;34m[\u001b[0m\u001b[0;36m0\u001b[0m\u001b[0;34m]\u001b[0m\u001b[0;34m[\u001b[0m\u001b[0;36m1\u001b[0m\u001b[0;34m]\u001b[0m\u001b[0;34m)\u001b[0m\u001b[0;34m\u001b[0m\u001b[0;34m\u001b[0m\u001b[0m\n\u001b[0m",
      "\u001b[0;31mTypeError\u001b[0m: 'int' object is not subscriptable"
     ]
    }
   ],
   "source": [
    "#But notice that this comes with problems if you access an unsubscriptable object (e.g int, float)\n",
    "print(X[0][1])"
   ]
  },
  {
   "cell_type": "markdown",
   "metadata": {},
   "source": [
    "Assignment Dynamics\n",
    "=="
   ]
  },
  {
   "cell_type": "markdown",
   "metadata": {},
   "source": [
    "Python has a weak type system (duck typing), unlike C. So a single variable can be bound to objects of many types. Also, variables do not require an up-front type declaration. However, you can use type hints in function definitions for code organization and for use with third-party debuggers."
   ]
  },
  {
   "cell_type": "code",
   "execution_count": 50,
   "metadata": {},
   "outputs": [
    {
     "name": "stdout",
     "output_type": "stream",
     "text": [
      "A= 5 B= 5\n"
     ]
    }
   ],
   "source": [
    "A = 5  #Assign the object \"5\" to the name A\n",
    "B = A  #Assign the object that A refers to to the name B\n",
    "print(\"A=\",A,\"B=\",B )"
   ]
  },
  {
   "cell_type": "code",
   "execution_count": 51,
   "metadata": {},
   "outputs": [
    {
     "name": "stdout",
     "output_type": "stream",
     "text": [
      "A= 5 B= 7\n"
     ]
    }
   ],
   "source": [
    "B = 7               \n",
    "print(\"A=\",A,\"B=\",B)"
   ]
  },
  {
   "cell_type": "code",
   "execution_count": 52,
   "metadata": {},
   "outputs": [
    {
     "name": "stdout",
     "output_type": "stream",
     "text": [
      "A= [1, 2, 3, 4, 5] B= [1, 2, 3, 4, 5]\n"
     ]
    }
   ],
   "source": [
    "A = [1,2,3,4,5]\n",
    "B = A\n",
    "print(\"A=\",A,\"B=\",B )"
   ]
  },
  {
   "cell_type": "code",
   "execution_count": 53,
   "metadata": {},
   "outputs": [
    {
     "name": "stdout",
     "output_type": "stream",
     "text": [
      "A= [1, 2, 3, 4, 5] B= [5, 4, 3, 2, 1]\n"
     ]
    }
   ],
   "source": [
    "A = [1,2,3,4,5]\n",
    "B = A\n",
    "B = [5,4,3,2,1]        \n",
    "print (\"A=\",A,\"B=\",B ) "
   ]
  },
  {
   "cell_type": "code",
   "execution_count": 54,
   "metadata": {},
   "outputs": [
    {
     "name": "stdout",
     "output_type": "stream",
     "text": [
      "A= [1, 2, 3, 4, 5, 6, 7] B= [1, 2, 3, 4, 5, 6, 7]\n"
     ]
    }
   ],
   "source": [
    "A = [1,2,3,4,5]\n",
    "B=A\n",
    "A.append(6)\n",
    "B.append(7)\n",
    "print (\"A=\",A,\"B=\",B )"
   ]
  },
  {
   "cell_type": "code",
   "execution_count": null,
   "metadata": {},
   "outputs": [],
   "source": [
    "A = [1,2,3,4,5]\n",
    "B = A\n",
    "B[0]=-1\n",
    "print (\"A=\",A,\"B=\",B)"
   ]
  },
  {
   "cell_type": "markdown",
   "metadata": {
    "collapsed": true
   },
   "source": [
    "Basic Control Flow\n",
    "==\n"
   ]
  },
  {
   "cell_type": "markdown",
   "metadata": {},
   "source": [
    "If-Elif-Else\n",
    "--"
   ]
  },
  {
   "cell_type": "code",
   "execution_count": 55,
   "metadata": {},
   "outputs": [
    {
     "name": "stdout",
     "output_type": "stream",
     "text": [
      "X is positive\n"
     ]
    }
   ],
   "source": [
    "#Basic If-Elif-Else\n",
    "X=5\n",
    "if(X<0):\n",
    "    print(\"X is negative\")\n",
    "elif(X==0):\n",
    "    print(\"X is zero\")\n",
    "else:\n",
    "    print(\"X is positive\")\n"
   ]
  },
  {
   "cell_type": "markdown",
   "metadata": {},
   "source": [
    "For and While\n",
    "--"
   ]
  },
  {
   "cell_type": "code",
   "execution_count": 56,
   "metadata": {
    "scrolled": true
   },
   "outputs": [
    {
     "name": "stdout",
     "output_type": "stream",
     "text": [
      "0 1\n",
      "1 2\n",
      "2 3\n",
      "3 4\n",
      "4 5\n"
     ]
    }
   ],
   "source": [
    "#Basic for loop using range()\n",
    "A = [1, 2, 3, 4, 5]\n",
    "for i in range(len(A)): \n",
    "    print(i, A[i])"
   ]
  },
  {
   "cell_type": "code",
   "execution_count": 74,
   "metadata": {
    "scrolled": true
   },
   "outputs": [
    {
     "name": "stdout",
     "output_type": "stream",
     "text": [
      "alex\n",
      "john\n",
      "paul\n"
     ]
    }
   ],
   "source": [
    "#Basic for loop using iterable\n",
    "names = [\"alex\", \"john\", \"paul\"]\n",
    "\n",
    "for name in names:\n",
    "    print(name)\n"
   ]
  },
  {
   "cell_type": "code",
   "execution_count": 77,
   "metadata": {},
   "outputs": [
    {
     "name": "stdout",
     "output_type": "stream",
     "text": [
      "alex\n",
      "john\n",
      "paul\n"
     ]
    }
   ],
   "source": [
    "# Notice the first variable is for your convenience \n",
    "# The second one is the list you are iterating over (in this case \"names\").\n",
    "for this_variable_is_for_the_for_loop in names:\n",
    "    print(this_variable_is_for_the_for_loop)"
   ]
  },
  {
   "cell_type": "code",
   "execution_count": 79,
   "metadata": {},
   "outputs": [
    {
     "name": "stdout",
     "output_type": "stream",
     "text": [
      "alex\n",
      "john\n",
      "paul\n",
      "Pedro\n"
     ]
    }
   ],
   "source": [
    "for this_variable_is_for_the_for_loop in names:\n",
    "    print(this_variable_is_for_the_for_loop)\n",
    "else: # The else section is only executed if the for loop terminates naturally, as seen above.\n",
    "    print(\"Pedro\")"
   ]
  },
  {
   "cell_type": "code",
   "execution_count": 80,
   "metadata": {},
   "outputs": [
    {
     "name": "stdout",
     "output_type": "stream",
     "text": [
      "alex\n"
     ]
    }
   ],
   "source": [
    "for this_variable_is_for_the_for_loop in names:\n",
    "    print(this_variable_is_for_the_for_loop)\n",
    "    break\n",
    "else: # Here, the break prevents the else from executing naturally.\n",
    "    print(\"Pedro\")"
   ]
  },
  {
   "cell_type": "code",
   "execution_count": 81,
   "metadata": {},
   "outputs": [
    {
     "name": "stdout",
     "output_type": "stream",
     "text": [
      "Not found\n"
     ]
    }
   ],
   "source": [
    "# A natural use is if you're searching for an element print something, else print not found.\n",
    "for name in names:\n",
    "    if name == \"Pedro\":\n",
    "        break\n",
    "else:\n",
    "    print(\"Not found\")"
   ]
  },
  {
   "cell_type": "code",
   "execution_count": 82,
   "metadata": {},
   "outputs": [
    {
     "name": "stdout",
     "output_type": "stream",
     "text": [
      "5\n",
      "4\n",
      "3\n",
      "2\n",
      "1\n"
     ]
    }
   ],
   "source": [
    "#Basic while loop\n",
    "x=5    \n",
    "while(x > 0):\n",
    "    print(x)\n",
    "    x-=1"
   ]
  },
  {
   "cell_type": "code",
   "execution_count": 84,
   "metadata": {},
   "outputs": [
    {
     "name": "stdout",
     "output_type": "stream",
     "text": [
      "0\n",
      "1\n",
      "2\n",
      "3\n",
      "4\n",
      "5\n"
     ]
    }
   ],
   "source": [
    "# Python has no do-while loop; use this instead\n",
    "x = 0\n",
    "while True:\n",
    "    print(x)\n",
    "    x += 1\n",
    "    if x > 5:\n",
    "        break\n"
   ]
  },
  {
   "cell_type": "code",
   "execution_count": 87,
   "metadata": {},
   "outputs": [
    {
     "name": "stdout",
     "output_type": "stream",
     "text": [
      "d[1] = 7\n",
      "d[2] = 8\n",
      "d[3] = 9\n"
     ]
    }
   ],
   "source": [
    "# Here's a way to unpack a dictionary (or multiple lists)\n",
    "d = dict(zip([1,2,3],[7,8,9]))\n",
    "\n",
    "for key, value in d.items():\n",
    "    print(f\"d[{key}] = {value}\")\n"
   ]
  },
  {
   "cell_type": "markdown",
   "metadata": {},
   "source": [
    "# List Comprehensions\n",
    "\n",
    "These are the \"pythonic\" way of creating lists. If at all possible, use these and benefit from Python's optimizations."
   ]
  },
  {
   "cell_type": "code",
   "execution_count": 89,
   "metadata": {},
   "outputs": [
    {
     "name": "stdout",
     "output_type": "stream",
     "text": [
      "[0, 0, 0, 0, 0, 0, 0, 0, 0, 0, 0, 0, 0, 0, 0, 0, 0, 0, 0, 0]\n",
      "[(1, 7), (2, 8), (3, 9)]\n",
      "[0, 2, 4, 6, 8, 10, 12, 14, 16, 18]\n"
     ]
    }
   ],
   "source": [
    "l = [0 for _ in range(20)]\n",
    "print(l)\n",
    "\n",
    "l = [(key, value) for key, value in d.items()]\n",
    "print(l)\n",
    "\n",
    "l = [number for number in range(0,20) if number % 2 == 0]\n",
    "print(l)"
   ]
  },
  {
   "cell_type": "markdown",
   "metadata": {},
   "source": [
    "Mathematical and Logical Operators\n",
    "=="
   ]
  },
  {
   "cell_type": "code",
   "execution_count": 58,
   "metadata": {},
   "outputs": [
    {
     "name": "stdout",
     "output_type": "stream",
     "text": [
      "2**4= 16\n"
     ]
    }
   ],
   "source": [
    "print (\"2**4=\", 2**4 )  # Computing Powers"
   ]
  },
  {
   "cell_type": "code",
   "execution_count": 59,
   "metadata": {},
   "outputs": [
    {
     "name": "stdout",
     "output_type": "stream",
     "text": [
      "2/4= 0.5\n"
     ]
    }
   ],
   "source": [
    "print (\"2/4=\", 2/4 )    # \"True division\" of int by int\n",
    "\n",
    "# Note: the / operator for ints was \"floor division\" \n",
    "# in Python 2.x, so would give a result of 0 for this example"
   ]
  },
  {
   "cell_type": "code",
   "execution_count": 60,
   "metadata": {},
   "outputs": [
    {
     "name": "stdout",
     "output_type": "stream",
     "text": [
      "2//4= 0\n"
     ]
    }
   ],
   "source": [
    "print (\"2//4=\", 2//4 )  # \"Floor division\""
   ]
  },
  {
   "cell_type": "code",
   "execution_count": 61,
   "metadata": {},
   "outputs": [
    {
     "name": "stdout",
     "output_type": "stream",
     "text": [
      "2/4.= 0.5\n"
     ]
    }
   ],
   "source": [
    "print (\"2/4.=\", 2/4.)   # Division of int by float (True division)"
   ]
  },
  {
   "cell_type": "code",
   "execution_count": 62,
   "metadata": {},
   "outputs": [
    {
     "name": "stdout",
     "output_type": "stream",
     "text": [
      "2./4= 0.5\n"
     ]
    }
   ],
   "source": [
    "print (\"2./4=\", 2./4)   # Division of float by int"
   ]
  },
  {
   "cell_type": "code",
   "execution_count": 63,
   "metadata": {},
   "outputs": [
    {
     "name": "stdout",
     "output_type": "stream",
     "text": [
      "True or False= True\n"
     ]
    }
   ],
   "source": [
    "print (\"True or False=\", True or False) #Logical or"
   ]
  },
  {
   "cell_type": "code",
   "execution_count": 64,
   "metadata": {},
   "outputs": [
    {
     "name": "stdout",
     "output_type": "stream",
     "text": [
      "True and False= False\n"
     ]
    }
   ],
   "source": [
    "print (\"True and False=\", True and False) #Logical and"
   ]
  },
  {
   "cell_type": "code",
   "execution_count": 65,
   "metadata": {},
   "outputs": [
    {
     "name": "stdout",
     "output_type": "stream",
     "text": [
      "not(False)= True\n"
     ]
    }
   ],
   "source": [
    "print (\"not(False)=\", not(False)) #Logical not"
   ]
  },
  {
   "cell_type": "markdown",
   "metadata": {},
   "source": [
    "Functions\n",
    "=="
   ]
  },
  {
   "cell_type": "code",
   "execution_count": 66,
   "metadata": {},
   "outputs": [
    {
     "name": "stdout",
     "output_type": "stream",
     "text": [
      "f(2)= 4\n"
     ]
    }
   ],
   "source": [
    "def f(a):             #Define a basic function of 1-argument\n",
    "    return a**2\n",
    "\n",
    "print (\"f(2)=\",f(2))\n"
   ]
  },
  {
   "cell_type": "code",
   "execution_count": 67,
   "metadata": {},
   "outputs": [
    {
     "name": "stdout",
     "output_type": "stream",
     "text": [
      "g(f,2,3)= 13\n"
     ]
    }
   ],
   "source": [
    "def g(h,a,b):         #Define a function of 3-arguments where h is a function and a and b are numbers\n",
    "    return h(a)+h(b)\n",
    "\n",
    "print (\"g(f,2,3)=\",g(f,2,3))\n"
   ]
  },
  {
   "cell_type": "code",
   "execution_count": null,
   "metadata": {},
   "outputs": [],
   "source": [
    "# Add type hints\n",
    "def create_person(name: str, age: int, children: [str]) -> bool:\n",
    "    return"
   ]
  },
  {
   "cell_type": "markdown",
   "metadata": {
    "collapsed": true
   },
   "source": [
    "NumPy Arrays\n",
    "--"
   ]
  },
  {
   "cell_type": "code",
   "execution_count": 59,
   "metadata": {},
   "outputs": [
    {
     "name": "stdout",
     "output_type": "stream",
     "text": [
      "X=\n",
      " [[1 2]\n",
      " [3 4]\n",
      " [5 6]]\n"
     ]
    }
   ],
   "source": [
    "import numpy as np\n",
    "X = np.array([[1,2],[3,4],[5,6]])\n",
    "print (\"X=\\n\",X)"
   ]
  },
  {
   "cell_type": "code",
   "execution_count": 60,
   "metadata": {},
   "outputs": [
    {
     "name": "stdout",
     "output_type": "stream",
     "text": [
      "X.shape= (3, 2)\n"
     ]
    }
   ],
   "source": [
    "print (\"X.shape=\", X.shape)"
   ]
  },
  {
   "cell_type": "code",
   "execution_count": 74,
   "metadata": {},
   "outputs": [
    {
     "name": "stdout",
     "output_type": "stream",
     "text": [
      "X[0,1]= 2\n"
     ]
    }
   ],
   "source": [
    "print (\"X[0,1]=\", X[0,1])"
   ]
  },
  {
   "cell_type": "code",
   "execution_count": 75,
   "metadata": {},
   "outputs": [
    {
     "name": "stdout",
     "output_type": "stream",
     "text": [
      "X[0,:]= [1 2]\n"
     ]
    }
   ],
   "source": [
    "print (\"X[0,:]=\", X[0,:])"
   ]
  },
  {
   "cell_type": "code",
   "execution_count": 76,
   "metadata": {},
   "outputs": [
    {
     "name": "stdout",
     "output_type": "stream",
     "text": [
      "(2,)\n"
     ]
    }
   ],
   "source": [
    "Y = X[0,:]\n",
    "print(Y.shape)"
   ]
  },
  {
   "cell_type": "code",
   "execution_count": 77,
   "metadata": {},
   "outputs": [
    {
     "name": "stdout",
     "output_type": "stream",
     "text": [
      "X[:,1]= [2 4 6]\n"
     ]
    }
   ],
   "source": [
    "print (\"X[:,1]=\", X[:,1])"
   ]
  },
  {
   "cell_type": "code",
   "execution_count": 78,
   "metadata": {},
   "outputs": [
    {
     "name": "stdout",
     "output_type": "stream",
     "text": [
      "2*X=\n",
      " [[ 2  4]\n",
      " [ 6  8]\n",
      " [10 12]]\n"
     ]
    }
   ],
   "source": [
    "print (\"2*X=\\n\", 2*X)"
   ]
  },
  {
   "cell_type": "code",
   "execution_count": 79,
   "metadata": {},
   "outputs": [
    {
     "name": "stdout",
     "output_type": "stream",
     "text": [
      "3: 5+X=\n",
      " [[ 6  7]\n",
      " [ 8  9]\n",
      " [10 11]]\n"
     ]
    }
   ],
   "source": [
    "print (\"3: 5+X=\\n\", 5+X)\n"
   ]
  },
  {
   "cell_type": "code",
   "execution_count": 80,
   "metadata": {},
   "outputs": [
    {
     "name": "stdout",
     "output_type": "stream",
     "text": [
      "Y=\n",
      " [[-1  1 -1]]\n"
     ]
    }
   ],
   "source": [
    "Y = np.array([[-1,1,-1]])\n",
    "print (\"Y=\\n\",Y)"
   ]
  },
  {
   "cell_type": "code",
   "execution_count": 81,
   "metadata": {},
   "outputs": [
    {
     "name": "stdout",
     "output_type": "stream",
     "text": [
      "6: Y.T=\n",
      " [[-1]\n",
      " [ 1]\n",
      " [-1]]\n"
     ]
    }
   ],
   "source": [
    "print (\"6: Y.T=\\n\", Y.T)"
   ]
  },
  {
   "cell_type": "code",
   "execution_count": 84,
   "metadata": {},
   "outputs": [
    {
     "name": "stdout",
     "output_type": "stream",
     "text": [
      "X, Y, Y.dot(X)=\n",
      " [[1 2]\n",
      " [3 4]\n",
      " [5 6]] [[-1  1 -1]] [[-3 -4]]\n"
     ]
    }
   ],
   "source": [
    "print (\"X, Y, Y.dot(X)=\\n\", X, Y, Y.dot(X))"
   ]
  },
  {
   "cell_type": "code",
   "execution_count": 85,
   "metadata": {},
   "outputs": [
    {
     "name": "stdout",
     "output_type": "stream",
     "text": [
      "np.dot(Y, X)=\n",
      " [[-3 -4]]\n"
     ]
    }
   ],
   "source": [
    "print (\"np.dot(Y, X)=\\n\", np.dot(Y, X))"
   ]
  },
  {
   "cell_type": "code",
   "execution_count": 86,
   "metadata": {},
   "outputs": [
    {
     "name": "stdout",
     "output_type": "stream",
     "text": [
      "Y.T + X =\n",
      " [[0 1]\n",
      " [4 5]\n",
      " [4 5]]\n"
     ]
    }
   ],
   "source": [
    "print (\"Y.T + X =\\n\", Y.T + X)"
   ]
  }
 ],
 "metadata": {
  "anaconda-cloud": {},
  "kernelspec": {
   "display_name": "Python 3",
   "language": "python",
   "name": "python3"
  },
  "language_info": {
   "codemirror_mode": {
    "name": "ipython",
    "version": 3
   },
   "file_extension": ".py",
   "mimetype": "text/x-python",
   "name": "python",
   "nbconvert_exporter": "python",
   "pygments_lexer": "ipython3",
   "version": "3.7.6"
  }
 },
 "nbformat": 4,
 "nbformat_minor": 1
}
